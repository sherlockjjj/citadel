{
 "cells": [
  {
   "cell_type": "code",
   "execution_count": 1,
   "metadata": {
    "collapsed": true
   },
   "outputs": [],
   "source": [
    "import numpy as np\n",
    "import pandas as pd"
   ]
  },
  {
   "cell_type": "code",
   "execution_count": 2,
   "metadata": {},
   "outputs": [
    {
     "name": "stderr",
     "output_type": "stream",
     "text": [
      "/Users/yizhoufang/anaconda/lib/python2.7/site-packages/IPython/core/interactiveshell.py:2718: DtypeWarning: Columns (9) have mixed types. Specify dtype option on import or set low_memory=False.\n",
      "  interactivity=interactivity, compiler=compiler, result=result)\n"
     ]
    },
    {
     "data": {
      "text/html": [
       "<div>\n",
       "<style>\n",
       "    .dataframe thead tr:only-child th {\n",
       "        text-align: right;\n",
       "    }\n",
       "\n",
       "    .dataframe thead th {\n",
       "        text-align: left;\n",
       "    }\n",
       "\n",
       "    .dataframe tbody tr th {\n",
       "        vertical-align: top;\n",
       "    }\n",
       "</style>\n",
       "<table border=\"1\" class=\"dataframe\">\n",
       "  <thead>\n",
       "    <tr style=\"text-align: right;\">\n",
       "      <th></th>\n",
       "      <th>accommodates</th>\n",
       "      <th>amenities</th>\n",
       "      <th>availability_30</th>\n",
       "      <th>bathrooms</th>\n",
       "      <th>bed_type</th>\n",
       "      <th>bedrooms</th>\n",
       "      <th>beds</th>\n",
       "      <th>cancellation_policy</th>\n",
       "      <th>city</th>\n",
       "      <th>has_availability</th>\n",
       "      <th>...</th>\n",
       "      <th>review_scores_checkin</th>\n",
       "      <th>review_scores_cleanliness</th>\n",
       "      <th>review_scores_communication</th>\n",
       "      <th>review_scores_location</th>\n",
       "      <th>review_scores_rating</th>\n",
       "      <th>review_scores_value</th>\n",
       "      <th>room_type</th>\n",
       "      <th>state</th>\n",
       "      <th>weekly_price</th>\n",
       "      <th>zipcode</th>\n",
       "    </tr>\n",
       "  </thead>\n",
       "  <tbody>\n",
       "    <tr>\n",
       "      <th>0</th>\n",
       "      <td>10.0</td>\n",
       "      <td>{\"Wireless Internet\",\"Air conditioning\",Pool,K...</td>\n",
       "      <td>27</td>\n",
       "      <td>7.0</td>\n",
       "      <td>Real Bed</td>\n",
       "      <td>5.0</td>\n",
       "      <td>5.0</td>\n",
       "      <td>strict</td>\n",
       "      <td>acton</td>\n",
       "      <td>NaN</td>\n",
       "      <td>...</td>\n",
       "      <td>NaN</td>\n",
       "      <td>NaN</td>\n",
       "      <td>NaN</td>\n",
       "      <td>NaN</td>\n",
       "      <td>NaN</td>\n",
       "      <td>NaN</td>\n",
       "      <td>Entire home/apt</td>\n",
       "      <td>CA</td>\n",
       "      <td>NaN</td>\n",
       "      <td>93510</td>\n",
       "    </tr>\n",
       "    <tr>\n",
       "      <th>1</th>\n",
       "      <td>2.0</td>\n",
       "      <td>{}</td>\n",
       "      <td>29</td>\n",
       "      <td>1.0</td>\n",
       "      <td>Real Bed</td>\n",
       "      <td>1.0</td>\n",
       "      <td>1.0</td>\n",
       "      <td>flexible</td>\n",
       "      <td>palmdale</td>\n",
       "      <td>NaN</td>\n",
       "      <td>...</td>\n",
       "      <td>10.0</td>\n",
       "      <td>10.0</td>\n",
       "      <td>10.0</td>\n",
       "      <td>9.0</td>\n",
       "      <td>93.0</td>\n",
       "      <td>9.0</td>\n",
       "      <td>Private room</td>\n",
       "      <td>CA</td>\n",
       "      <td>NaN</td>\n",
       "      <td>93550</td>\n",
       "    </tr>\n",
       "    <tr>\n",
       "      <th>2</th>\n",
       "      <td>2.0</td>\n",
       "      <td>{\"Wireless Internet\",\"Air conditioning\",\"Wheel...</td>\n",
       "      <td>18</td>\n",
       "      <td>1.0</td>\n",
       "      <td>Real Bed</td>\n",
       "      <td>1.0</td>\n",
       "      <td>1.0</td>\n",
       "      <td>flexible</td>\n",
       "      <td>acton</td>\n",
       "      <td>NaN</td>\n",
       "      <td>...</td>\n",
       "      <td>10.0</td>\n",
       "      <td>10.0</td>\n",
       "      <td>10.0</td>\n",
       "      <td>10.0</td>\n",
       "      <td>100.0</td>\n",
       "      <td>10.0</td>\n",
       "      <td>Private room</td>\n",
       "      <td>CA</td>\n",
       "      <td>NaN</td>\n",
       "      <td>93510</td>\n",
       "    </tr>\n",
       "    <tr>\n",
       "      <th>3</th>\n",
       "      <td>6.0</td>\n",
       "      <td>{TV,\"Wireless Internet\",\"Air conditioning\",Poo...</td>\n",
       "      <td>3</td>\n",
       "      <td>1.0</td>\n",
       "      <td>Real Bed</td>\n",
       "      <td>1.0</td>\n",
       "      <td>3.0</td>\n",
       "      <td>flexible</td>\n",
       "      <td>acton</td>\n",
       "      <td>NaN</td>\n",
       "      <td>...</td>\n",
       "      <td>10.0</td>\n",
       "      <td>10.0</td>\n",
       "      <td>10.0</td>\n",
       "      <td>10.0</td>\n",
       "      <td>100.0</td>\n",
       "      <td>10.0</td>\n",
       "      <td>Entire home/apt</td>\n",
       "      <td>CA</td>\n",
       "      <td>NaN</td>\n",
       "      <td>93510</td>\n",
       "    </tr>\n",
       "    <tr>\n",
       "      <th>4</th>\n",
       "      <td>1.0</td>\n",
       "      <td>{Internet,\"Wireless Internet\",Kitchen,\"Free pa...</td>\n",
       "      <td>0</td>\n",
       "      <td>1.0</td>\n",
       "      <td>Real Bed</td>\n",
       "      <td>1.0</td>\n",
       "      <td>1.0</td>\n",
       "      <td>flexible</td>\n",
       "      <td>los angeles</td>\n",
       "      <td>NaN</td>\n",
       "      <td>...</td>\n",
       "      <td>10.0</td>\n",
       "      <td>9.0</td>\n",
       "      <td>10.0</td>\n",
       "      <td>9.0</td>\n",
       "      <td>93.0</td>\n",
       "      <td>10.0</td>\n",
       "      <td>Private room</td>\n",
       "      <td>CA</td>\n",
       "      <td>NaN</td>\n",
       "      <td>90007</td>\n",
       "    </tr>\n",
       "  </tbody>\n",
       "</table>\n",
       "<p>5 rows × 29 columns</p>\n",
       "</div>"
      ],
      "text/plain": [
       "   accommodates                                          amenities  \\\n",
       "0          10.0  {\"Wireless Internet\",\"Air conditioning\",Pool,K...   \n",
       "1           2.0                                                 {}   \n",
       "2           2.0  {\"Wireless Internet\",\"Air conditioning\",\"Wheel...   \n",
       "3           6.0  {TV,\"Wireless Internet\",\"Air conditioning\",Poo...   \n",
       "4           1.0  {Internet,\"Wireless Internet\",Kitchen,\"Free pa...   \n",
       "\n",
       "   availability_30  bathrooms  bed_type  bedrooms  beds cancellation_policy  \\\n",
       "0               27        7.0  Real Bed       5.0   5.0              strict   \n",
       "1               29        1.0  Real Bed       1.0   1.0            flexible   \n",
       "2               18        1.0  Real Bed       1.0   1.0            flexible   \n",
       "3                3        1.0  Real Bed       1.0   3.0            flexible   \n",
       "4                0        1.0  Real Bed       1.0   1.0            flexible   \n",
       "\n",
       "          city has_availability   ...     review_scores_checkin  \\\n",
       "0        acton              NaN   ...                       NaN   \n",
       "1     palmdale              NaN   ...                      10.0   \n",
       "2        acton              NaN   ...                      10.0   \n",
       "3        acton              NaN   ...                      10.0   \n",
       "4  los angeles              NaN   ...                      10.0   \n",
       "\n",
       "   review_scores_cleanliness review_scores_communication  \\\n",
       "0                        NaN                         NaN   \n",
       "1                       10.0                        10.0   \n",
       "2                       10.0                        10.0   \n",
       "3                       10.0                        10.0   \n",
       "4                        9.0                        10.0   \n",
       "\n",
       "   review_scores_location  review_scores_rating review_scores_value  \\\n",
       "0                     NaN                   NaN                 NaN   \n",
       "1                     9.0                  93.0                 9.0   \n",
       "2                    10.0                 100.0                10.0   \n",
       "3                    10.0                 100.0                10.0   \n",
       "4                     9.0                  93.0                10.0   \n",
       "\n",
       "         room_type state weekly_price  zipcode  \n",
       "0  Entire home/apt    CA          NaN    93510  \n",
       "1     Private room    CA          NaN    93550  \n",
       "2     Private room    CA          NaN    93510  \n",
       "3  Entire home/apt    CA          NaN    93510  \n",
       "4     Private room    CA          NaN    90007  \n",
       "\n",
       "[5 rows x 29 columns]"
      ]
     },
     "execution_count": 2,
     "metadata": {},
     "output_type": "execute_result"
    }
   ],
   "source": [
    "df = pd.read_csv(\"listings.csv\")\n",
    "df.head()"
   ]
  },
  {
   "cell_type": "code",
   "execution_count": null,
   "metadata": {},
   "outputs": [],
   "source": [
    "df['metropolitan'].unique()"
   ]
  },
  {
   "cell_type": "code",
   "execution_count": null,
   "metadata": {},
   "outputs": [],
   "source": [
    "df.columns"
   ]
  },
  {
   "cell_type": "code",
   "execution_count": null,
   "metadata": {},
   "outputs": [],
   "source": [
    "df['accommodates'].unique()"
   ]
  },
  {
   "cell_type": "code",
   "execution_count": null,
   "metadata": {},
   "outputs": [],
   "source": [
    "Counter(df['city']).most_common(25)"
   ]
  },
  {
   "cell_type": "code",
   "execution_count": null,
   "metadata": {
    "collapsed": true
   },
   "outputs": [],
   "source": [
    "from collections import Counter"
   ]
  },
  {
   "cell_type": "code",
   "execution_count": 3,
   "metadata": {
    "collapsed": true
   },
   "outputs": [],
   "source": [
    "#select interested columns\n",
    "cols = ['accommodates', 'availability_30', 'bathrooms', 'bedrooms', 'beds', 'metropolitan', 'price', 'property_type', 'review_scores_value','room_type']\n",
    "new_df = df[cols]"
   ]
  },
  {
   "cell_type": "code",
   "execution_count": null,
   "metadata": {},
   "outputs": [],
   "source": [
    "new_df.info()"
   ]
  },
  {
   "cell_type": "code",
   "execution_count": null,
   "metadata": {},
   "outputs": [],
   "source": [
    "new_df.info()"
   ]
  },
  {
   "cell_type": "code",
   "execution_count": null,
   "metadata": {},
   "outputs": [],
   "source": [
    "new_df[new_df['bathrooms'].isnull()].head()"
   ]
  },
  {
   "cell_type": "code",
   "execution_count": null,
   "metadata": {},
   "outputs": [],
   "source": [
    "#only two property_type are missing, can be removed\n",
    "new_df[new_df['property_type'].isnull()].head()"
   ]
  },
  {
   "cell_type": "code",
   "execution_count": null,
   "metadata": {},
   "outputs": [],
   "source": [
    "#missing review score usually is new posts\n",
    "#we can drop them since their prices are usually not tested by markets\n",
    "new_df[new_df['review_scores_value'].isnull()].head()"
   ]
  },
  {
   "cell_type": "code",
   "execution_count": null,
   "metadata": {
    "collapsed": true
   },
   "outputs": [],
   "source": [
    "#dealing with missing data\n",
    "#Missing bathroom -> 0 \n",
    "#Missing beds -> bedrooms\n",
    "#Missing review scores -> drop rows\n",
    "#Missing property type -> drop rows"
   ]
  },
  {
   "cell_type": "code",
   "execution_count": null,
   "metadata": {
    "collapsed": true
   },
   "outputs": [],
   "source": [
    "#Right now we can drop any row that contain missing values since it's only 20% of the data"
   ]
  },
  {
   "cell_type": "code",
   "execution_count": 4,
   "metadata": {},
   "outputs": [],
   "source": [
    "nm_df = new_df.dropna(how='any')"
   ]
  },
  {
   "cell_type": "code",
   "execution_count": 8,
   "metadata": {},
   "outputs": [
    {
     "name": "stdout",
     "output_type": "stream",
     "text": [
      "<class 'pandas.core.frame.DataFrame'>\n",
      "Int64Index: 42890 entries, 1 to 56416\n",
      "Data columns (total 10 columns):\n",
      "accommodates           42890 non-null float64\n",
      "availability_30        42890 non-null int64\n",
      "bathrooms              42890 non-null float64\n",
      "bedrooms               42890 non-null float64\n",
      "beds                   42890 non-null float64\n",
      "metropolitan           42890 non-null object\n",
      "price                  42890 non-null float64\n",
      "property_type          42890 non-null object\n",
      "review_scores_value    42890 non-null float64\n",
      "room_type              42890 non-null object\n",
      "dtypes: float64(6), int64(1), object(3)\n",
      "memory usage: 3.6+ MB\n"
     ]
    }
   ],
   "source": [
    "nm_df.info()"
   ]
  },
  {
   "cell_type": "code",
   "execution_count": null,
   "metadata": {},
   "outputs": [],
   "source": [
    "float(nm_df['price'].iloc[0][1:])"
   ]
  },
  {
   "cell_type": "code",
   "execution_count": 5,
   "metadata": {},
   "outputs": [
    {
     "name": "stderr",
     "output_type": "stream",
     "text": [
      "/Users/yizhoufang/anaconda/lib/python2.7/site-packages/ipykernel_launcher.py:1: SettingWithCopyWarning: \n",
      "A value is trying to be set on a copy of a slice from a DataFrame.\n",
      "Try using .loc[row_indexer,col_indexer] = value instead\n",
      "\n",
      "See the caveats in the documentation: http://pandas.pydata.org/pandas-docs/stable/indexing.html#indexing-view-versus-copy\n",
      "  \"\"\"Entry point for launching an IPython kernel.\n"
     ]
    }
   ],
   "source": [
    "nm_df['price'] = nm_df['price'].apply(lambda x: float(x[1:].replace(',', '')))"
   ]
  },
  {
   "cell_type": "code",
   "execution_count": 11,
   "metadata": {},
   "outputs": [],
   "source": [
    "df = pd.get_dummies(nm_df[['metropolitan', 'property_type', 'room_type']])\n",
    "new_cols = ['accommodates', 'availability_30', 'bathrooms', 'bedrooms', 'beds', 'price', 'review_scores_value']\n",
    "df[new_cols] = nm_df[new_cols]"
   ]
  },
  {
   "cell_type": "code",
   "execution_count": 13,
   "metadata": {},
   "outputs": [
    {
     "name": "stdout",
     "output_type": "stream",
     "text": [
      "<class 'pandas.core.frame.DataFrame'>\n",
      "Int64Index: 42890 entries, 1 to 56416\n",
      "Data columns (total 50 columns):\n",
      "metropolitan_LA                     42890 non-null uint8\n",
      "metropolitan_oakland                42890 non-null uint8\n",
      "metropolitan_portland               42890 non-null uint8\n",
      "metropolitan_san_diego              42890 non-null uint8\n",
      "metropolitan_san_francisco          42890 non-null uint8\n",
      "metropolitan_santa_cruz             42890 non-null uint8\n",
      "metropolitan_seattle                42890 non-null uint8\n",
      "property_type_Apartment             42890 non-null uint8\n",
      "property_type_Bed & Breakfast       42890 non-null uint8\n",
      "property_type_Boat                  42890 non-null uint8\n",
      "property_type_Boutique hotel        42890 non-null uint8\n",
      "property_type_Bungalow              42890 non-null uint8\n",
      "property_type_Cabin                 42890 non-null uint8\n",
      "property_type_Camper/RV             42890 non-null uint8\n",
      "property_type_Castle                42890 non-null uint8\n",
      "property_type_Cave                  42890 non-null uint8\n",
      "property_type_Chalet                42890 non-null uint8\n",
      "property_type_Condominium           42890 non-null uint8\n",
      "property_type_Dorm                  42890 non-null uint8\n",
      "property_type_Earth House           42890 non-null uint8\n",
      "property_type_Guest suite           42890 non-null uint8\n",
      "property_type_Guesthouse            42890 non-null uint8\n",
      "property_type_Hostel                42890 non-null uint8\n",
      "property_type_House                 42890 non-null uint8\n",
      "property_type_Hut                   42890 non-null uint8\n",
      "property_type_In-law                42890 non-null uint8\n",
      "property_type_Island                42890 non-null uint8\n",
      "property_type_Lighthouse            42890 non-null uint8\n",
      "property_type_Loft                  42890 non-null uint8\n",
      "property_type_Other                 42890 non-null uint8\n",
      "property_type_Plane                 42890 non-null uint8\n",
      "property_type_Serviced apartment    42890 non-null uint8\n",
      "property_type_Tent                  42890 non-null uint8\n",
      "property_type_Timeshare             42890 non-null uint8\n",
      "property_type_Tipi                  42890 non-null uint8\n",
      "property_type_Townhouse             42890 non-null uint8\n",
      "property_type_Train                 42890 non-null uint8\n",
      "property_type_Treehouse             42890 non-null uint8\n",
      "property_type_Villa                 42890 non-null uint8\n",
      "property_type_Yurt                  42890 non-null uint8\n",
      "room_type_Entire home/apt           42890 non-null uint8\n",
      "room_type_Private room              42890 non-null uint8\n",
      "room_type_Shared room               42890 non-null uint8\n",
      "accommodates                        42890 non-null float64\n",
      "availability_30                     42890 non-null int64\n",
      "bathrooms                           42890 non-null float64\n",
      "bedrooms                            42890 non-null float64\n",
      "beds                                42890 non-null float64\n",
      "price                               42890 non-null float64\n",
      "review_scores_value                 42890 non-null float64\n",
      "dtypes: float64(6), int64(1), uint8(43)\n",
      "memory usage: 4.4 MB\n"
     ]
    }
   ],
   "source": [
    "df.info()"
   ]
  },
  {
   "cell_type": "code",
   "execution_count": 14,
   "metadata": {},
   "outputs": [],
   "source": [
    "from sklearn.model_selection import train_test_split"
   ]
  },
  {
   "cell_type": "code",
   "execution_count": 15,
   "metadata": {},
   "outputs": [
    {
     "data": {
      "text/plain": [
       "Index([u'metropolitan_LA', u'metropolitan_oakland', u'metropolitan_portland',\n",
       "       u'metropolitan_san_diego', u'metropolitan_san_francisco',\n",
       "       u'metropolitan_santa_cruz', u'metropolitan_seattle',\n",
       "       u'property_type_Apartment', u'property_type_Bed & Breakfast',\n",
       "       u'property_type_Boat', u'property_type_Boutique hotel',\n",
       "       u'property_type_Bungalow', u'property_type_Cabin',\n",
       "       u'property_type_Camper/RV', u'property_type_Castle',\n",
       "       u'property_type_Cave', u'property_type_Chalet',\n",
       "       u'property_type_Condominium', u'property_type_Dorm',\n",
       "       u'property_type_Earth House', u'property_type_Guest suite',\n",
       "       u'property_type_Guesthouse', u'property_type_Hostel',\n",
       "       u'property_type_House', u'property_type_Hut', u'property_type_In-law',\n",
       "       u'property_type_Island', u'property_type_Lighthouse',\n",
       "       u'property_type_Loft', u'property_type_Other', u'property_type_Plane',\n",
       "       u'property_type_Serviced apartment', u'property_type_Tent',\n",
       "       u'property_type_Timeshare', u'property_type_Tipi',\n",
       "       u'property_type_Townhouse', u'property_type_Train',\n",
       "       u'property_type_Treehouse', u'property_type_Villa',\n",
       "       u'property_type_Yurt', u'room_type_Entire home/apt',\n",
       "       u'room_type_Private room', u'room_type_Shared room', u'accommodates',\n",
       "       u'availability_30', u'bathrooms', u'bedrooms', u'beds', u'price',\n",
       "       u'review_scores_value'],\n",
       "      dtype='object')"
      ]
     },
     "execution_count": 15,
     "metadata": {},
     "output_type": "execute_result"
    }
   ],
   "source": [
    "df.columns"
   ]
  },
  {
   "cell_type": "code",
   "execution_count": 16,
   "metadata": {},
   "outputs": [],
   "source": [
    "y = df.pop('price').values"
   ]
  },
  {
   "cell_type": "code",
   "execution_count": 17,
   "metadata": {},
   "outputs": [],
   "source": [
    "X = df.values"
   ]
  },
  {
   "cell_type": "code",
   "execution_count": 21,
   "metadata": {
    "collapsed": true
   },
   "outputs": [],
   "source": [
    "X_train, X_test, y_train, y_test = train_test_split(X, y, test_size=0.2, random_state=42)"
   ]
  },
  {
   "cell_type": "code",
   "execution_count": 18,
   "metadata": {
    "collapsed": true
   },
   "outputs": [],
   "source": [
    "from sklearn.ensemble import RandomForestRegressor"
   ]
  },
  {
   "cell_type": "code",
   "execution_count": 20,
   "metadata": {
    "collapsed": true
   },
   "outputs": [],
   "source": [
    "regr = RandomForestRegressor(max_depth=5, random_state=0)"
   ]
  },
  {
   "cell_type": "code",
   "execution_count": 19,
   "metadata": {
    "collapsed": true
   },
   "outputs": [],
   "source": [
    "from sklearn.model_selection import cross_val_score"
   ]
  },
  {
   "cell_type": "code",
   "execution_count": 25,
   "metadata": {},
   "outputs": [
    {
     "name": "stdout",
     "output_type": "stream",
     "text": [
      "[ 0.48172428  0.51407889  0.38396276  0.51615139  0.23017603]\n"
     ]
    }
   ],
   "source": [
    "print(cross_val_score(regr, X_train, y_train, cv=5))"
   ]
  },
  {
   "cell_type": "code",
   "execution_count": 27,
   "metadata": {},
   "outputs": [
    {
     "name": "stdout",
     "output_type": "stream",
     "text": [
      "0.505128824554\n"
     ]
    }
   ],
   "source": [
    "regr.fit(X_train, y_train)\n",
    "print(regr.score(X_test, y_test))"
   ]
  }
 ],
 "metadata": {
  "kernelspec": {
   "display_name": "Python 2",
   "language": "python",
   "name": "python2"
  },
  "language_info": {
   "codemirror_mode": {
    "name": "ipython",
    "version": 2
   },
   "file_extension": ".py",
   "mimetype": "text/x-python",
   "name": "python",
   "nbconvert_exporter": "python",
   "pygments_lexer": "ipython2",
   "version": "2.7.13"
  }
 },
 "nbformat": 4,
 "nbformat_minor": 2
}
